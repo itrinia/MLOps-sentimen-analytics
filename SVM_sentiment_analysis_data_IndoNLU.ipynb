{
  "nbformat": 4,
  "nbformat_minor": 0,
  "metadata": {
    "colab": {
      "provenance": [],
      "authorship_tag": "ABX9TyPqyzWPc/362OsfeYv/6qW0",
      "include_colab_link": true
    },
    "kernelspec": {
      "name": "python3",
      "display_name": "Python 3"
    },
    "language_info": {
      "name": "python"
    }
  },
  "cells": [
    {
      "cell_type": "markdown",
      "metadata": {
        "id": "view-in-github",
        "colab_type": "text"
      },
      "source": [
        "<a href=\"https://colab.research.google.com/github/itrinia/MLOps-sentiment-analysis/blob/main/SVM_sentiment_analysis_data_IndoNLU.ipynb\" target=\"_parent\"><img src=\"https://colab.research.google.com/assets/colab-badge.svg\" alt=\"Open In Colab\"/></a>"
      ]
    },
    {
      "cell_type": "markdown",
      "source": [
        "#Implementasi SVM untuk Analisis Sentimen pada Data IndoNLU"
      ],
      "metadata": {
        "id": "X4RQeIK3sQiH"
      }
    },
    {
      "cell_type": "code",
      "execution_count": null,
      "metadata": {
        "id": "JbqTkB3csQIN"
      },
      "outputs": [],
      "source": []
    }
  ]
}
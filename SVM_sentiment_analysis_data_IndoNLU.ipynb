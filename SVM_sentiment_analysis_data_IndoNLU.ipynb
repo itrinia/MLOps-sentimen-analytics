{
  "nbformat": 4,
  "nbformat_minor": 0,
  "metadata": {
    "colab": {
      "provenance": [],
      "authorship_tag": "ABX9TyPkVu1Rjn6a6HoMRfYpMOit",
      "include_colab_link": true
    },
    "kernelspec": {
      "name": "python3",
      "display_name": "Python 3"
    },
    "language_info": {
      "name": "python"
    }
  },
  "cells": [
    {
      "cell_type": "markdown",
      "metadata": {
        "id": "view-in-github",
        "colab_type": "text"
      },
      "source": [
        "<a href=\"https://colab.research.google.com/github/itrinia/MLOps-sentiment-analysis/blob/main/SVM_sentiment_analysis_data_IndoNLU.ipynb\" target=\"_parent\"><img src=\"https://colab.research.google.com/assets/colab-badge.svg\" alt=\"Open In Colab\"/></a>"
      ]
    },
    {
      "cell_type": "markdown",
      "source": [
        "Bagian NLP\n",
        "#Implementasi SVM untuk Analisis Sentimen pada Data IndoNLU\n"
      ],
      "metadata": {
        "id": "X4RQeIK3sQiH"
      }
    },
    {
      "cell_type": "markdown",
      "source": [
        "##read data & import lib"
      ],
      "metadata": {
        "id": "e_uQTpXUsna-"
      }
    },
    {
      "cell_type": "code",
      "execution_count": null,
      "metadata": {
        "id": "JbqTkB3csQIN"
      },
      "outputs": [],
      "source": [
        "import pandas as pd\n",
        "\n",
        "%matplotlib inline\n",
        "import matplotlib.pyplot as plt\n",
        "from wordcloud import WordCloud\n",
        "from sklearn.feature_extraction.text import CountVectorizer, TfidfTransformer, TfidfVectorizer\n",
        "from sklearn import svm\n",
        "from sklearn.metrics import classification_report\n"
      ]
    },
    {
      "cell_type": "code",
      "source": [
        "!git clone https://github.com/indobenchmark/indonlu"
      ],
      "metadata": {
        "id": "Fpdpi_vasp6s"
      },
      "execution_count": null,
      "outputs": []
    },
    {
      "cell_type": "code",
      "source": [
        "data_train = pd.read_csv('/content/indonlu/dataset/smsa_doc-sentiment-prosa/train_preprocess.tsv', sep='\\t')\n",
        "data_train.head()"
      ],
      "metadata": {
        "id": "SxrsHi-Ystts"
      },
      "execution_count": null,
      "outputs": []
    },
    {
      "cell_type": "code",
      "source": [
        "data_train = pd.read_csv('/content/indonlu/dataset/smsa_doc-sentiment-prosa/train_preprocess.tsv', sep='\\t', names=[\"Teks\", \"Target\"])\n",
        "data_test = pd.read_csv('/content/indonlu/dataset/smsa_doc-sentiment-prosa/valid_preprocess.tsv', sep='\\t', names=[\"Teks\", \"Target\"])\n",
        "\n",
        "#mengambil 5 data teratas pada data train\n",
        "data_train.head(5)"
      ],
      "metadata": {
        "id": "DaqsMlr6swZy"
      },
      "execution_count": null,
      "outputs": []
    },
    {
      "cell_type": "markdown",
      "source": [
        "##analisis data"
      ],
      "metadata": {
        "id": "KRN6OJCjs1e5"
      }
    },
    {
      "cell_type": "code",
      "source": [
        "# Melihat jumlah data pada data train dan test\n",
        "\n",
        "print(data_train.shape)\n",
        "print(data_test.shape)"
      ],
      "metadata": {
        "id": "PVAFVZqms2Wa"
      },
      "execution_count": null,
      "outputs": []
    },
    {
      "cell_type": "code",
      "source": [
        "# Menghitung jumlah data masing-masing variabel pada kolom Target\n",
        "data_train['Target'].value_counts()"
      ],
      "metadata": {
        "id": "yhD4z6YRs7Y6"
      },
      "execution_count": null,
      "outputs": []
    },
    {
      "cell_type": "code",
      "source": [
        "data_train.groupby('Target').size().plot(kind='bar')"
      ],
      "metadata": {
        "id": "lFwi7Pzcs9-q"
      },
      "execution_count": null,
      "outputs": []
    },
    {
      "cell_type": "code",
      "source": [
        "# Melihat panjang teks dalam data train dan data test\n",
        "\n",
        "length_train = data_train['Teks'].str.len()\n",
        "length_test = data_test['Teks'].str.len()\n",
        "plt.figure(figsize=(10,6))\n",
        "plt.hist(length_train, bins=50, label=\"Train_Teks\", color = \"darkblue\")\n",
        "plt.hist(length_test, bins=50, label='Test_Teks', color = \"skyblue\")\n",
        "plt.legend()"
      ],
      "metadata": {
        "id": "m-Pb-tgEs_ro"
      },
      "execution_count": null,
      "outputs": []
    },
    {
      "cell_type": "code",
      "source": [
        "# Sentimen yang ada pada seluruh data train dapat dilihat dengan memahami kata yang umum dengan plot word cloud\n",
        "\n",
        "def wordCloud(words):\n",
        "    wordCloud = WordCloud(width=800, height=500, background_color='white', random_state=21, max_font_size=120).generate(words)\n",
        "\n",
        "    plt.figure(figsize=(10, 7))\n",
        "    plt.imshow(wordCloud, interpolation='bilinear')\n",
        "    plt.axis('off')\n",
        "\n",
        "all_words = ' '.join([text for text in data_train['Teks']])\n",
        "wordCloud(all_words)"
      ],
      "metadata": {
        "colab": {
          "base_uri": "https://localhost:8080/",
          "height": 193
        },
        "id": "2zmfls7ItDTj",
        "outputId": "e9b2bcf3-2dea-4d2c-e1aa-fd5ec976ffca"
      },
      "execution_count": null,
      "outputs": [
        {
          "output_type": "error",
          "ename": "NameError",
          "evalue": "name 'data_train' is not defined",
          "traceback": [
            "\u001b[0;31m---------------------------------------------------------------------------\u001b[0m",
            "\u001b[0;31mNameError\u001b[0m                                 Traceback (most recent call last)",
            "\u001b[0;32m<ipython-input-3-b6c0ed639e95>\u001b[0m in \u001b[0;36m<cell line: 10>\u001b[0;34m()\u001b[0m\n\u001b[1;32m      8\u001b[0m     \u001b[0mplt\u001b[0m\u001b[0;34m.\u001b[0m\u001b[0maxis\u001b[0m\u001b[0;34m(\u001b[0m\u001b[0;34m'off'\u001b[0m\u001b[0;34m)\u001b[0m\u001b[0;34m\u001b[0m\u001b[0;34m\u001b[0m\u001b[0m\n\u001b[1;32m      9\u001b[0m \u001b[0;34m\u001b[0m\u001b[0m\n\u001b[0;32m---> 10\u001b[0;31m \u001b[0mall_words\u001b[0m \u001b[0;34m=\u001b[0m \u001b[0;34m' '\u001b[0m\u001b[0;34m.\u001b[0m\u001b[0mjoin\u001b[0m\u001b[0;34m(\u001b[0m\u001b[0;34m[\u001b[0m\u001b[0mtext\u001b[0m \u001b[0;32mfor\u001b[0m \u001b[0mtext\u001b[0m \u001b[0;32min\u001b[0m \u001b[0mdata_train\u001b[0m\u001b[0;34m[\u001b[0m\u001b[0;34m'Teks'\u001b[0m\u001b[0;34m]\u001b[0m\u001b[0;34m]\u001b[0m\u001b[0;34m)\u001b[0m\u001b[0;34m\u001b[0m\u001b[0;34m\u001b[0m\u001b[0m\n\u001b[0m\u001b[1;32m     11\u001b[0m \u001b[0mwordCloud\u001b[0m\u001b[0;34m(\u001b[0m\u001b[0mall_words\u001b[0m\u001b[0;34m)\u001b[0m\u001b[0;34m\u001b[0m\u001b[0;34m\u001b[0m\u001b[0m\n",
            "\u001b[0;31mNameError\u001b[0m: name 'data_train' is not defined"
          ]
        }
      ]
    },
    {
      "cell_type": "code",
      "source": [
        "# Melihat kata-kata yang negatif\n",
        "negative_words = ' '.join(text for text in data_train['Teks'][data_train['Target'] == 'negative'])\n",
        "wordCloud(negative_words)"
      ],
      "metadata": {
        "id": "HlnfobektF29"
      },
      "execution_count": null,
      "outputs": []
    }
  ]
}